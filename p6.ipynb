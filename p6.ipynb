{
 "cells": [
  {
   "cell_type": "code",
   "execution_count": 3,
   "id": "1bc2453c-0983-4045-87c8-5134817dc37a",
   "metadata": {},
   "outputs": [
    {
     "name": "stdout",
     "output_type": "stream",
     "text": [
      "Data Frame before imputing missing values using mean:\n",
      "     Age   Salary\n",
      "0  25.0  50000.0\n",
      "1  20.0      NaN\n",
      "2   NaN  65000.0\n",
      "3  35.0  70000.0\n",
      "4  40.0  80000.0\n",
      "\n",
      "Data Frame after imputing missing values using mean:\n",
      "     Age   Salary\n",
      "0  25.0  50000.0\n",
      "1  20.0  66250.0\n",
      "2  30.0  65000.0\n",
      "3  35.0  70000.0\n",
      "4  40.0  80000.0\n"
     ]
    }
   ],
   "source": [
    "import pandas as pd\n",
    "from sklearn.impute import SimpleImputer\n",
    "data = {'Age': [25, 20, None, 35, 40],'Salary': [50000, None, 65000, 70000, 80000]}\n",
    "df = pd.DataFrame(data)\n",
    "print(\"Data Frame before imputing missing values using mean:\\n\", df)\n",
    "imputer = SimpleImputer(strategy='mean')\n",
    "df[['Age', 'Salary']] = imputer.fit_transform(df[['Age', 'Salary']])\n",
    "print(\"\\nData Frame after imputing missing values using mean:\\n\", df)\n"
   ]
  },
  {
   "cell_type": "code",
   "execution_count": 4,
   "id": "f651adaf-43db-4408-893b-c457e9b67645",
   "metadata": {},
   "outputs": [
    {
     "name": "stdout",
     "output_type": "stream",
     "text": [
      "Data Frame before forward fill method:\n",
      "     Age   Salary\n",
      "0  25.0  50000.0\n",
      "1  30.0      NaN\n",
      "2   NaN  65000.0\n",
      "3  35.0  70000.0\n",
      "4  40.0  80000.0\n",
      "\n",
      "Data Frame after forward fill method:\n",
      "     Age   Salary\n",
      "0  25.0  50000.0\n",
      "1  30.0  50000.0\n",
      "2  30.0  65000.0\n",
      "3  35.0  70000.0\n",
      "4  40.0  80000.0\n"
     ]
    },
    {
     "name": "stderr",
     "output_type": "stream",
     "text": [
      "C:\\Users\\Hp\\AppData\\Local\\Temp\\ipykernel_44636\\4100736377.py:6: FutureWarning: DataFrame.fillna with 'method' is deprecated and will raise in a future version. Use obj.ffill() or obj.bfill() instead.\n",
      "  df.fillna(method='ffill', inplace=True)\n"
     ]
    }
   ],
   "source": [
    "import pandas as pd\n",
    "from sklearn.impute import SimpleImputer\n",
    "data = {'Age': [25, 30, None, 35, 40],'Salary': [50000, None, 65000, 70000, 80000]}\n",
    "df = pd.DataFrame(data)\n",
    "print(\"Data Frame before forward fill method:\\n\", df)\n",
    "df.fillna(method='ffill', inplace=True)\n",
    "print(\"\\nData Frame after forward fill method:\\n\", df)\n",
    "\n"
   ]
  },
  {
   "cell_type": "code",
   "execution_count": 5,
   "id": "0424b4f5-3674-453d-8bc1-406a9621ada5",
   "metadata": {},
   "outputs": [
    {
     "name": "stdout",
     "output_type": "stream",
     "text": [
      "Data Frame before backward fill method:\n",
      "     Age   Salary\n",
      "0  25.0  50000.0\n",
      "1   NaN      NaN\n",
      "2  35.0  65000.0\n",
      "3  40.0  70000.0\n",
      "\n",
      "Data Frame after backward fill method:\n",
      "     Age   Salary\n",
      "0  25.0  50000.0\n",
      "1  35.0  65000.0\n",
      "2  35.0  65000.0\n",
      "3  40.0  70000.0\n"
     ]
    },
    {
     "name": "stderr",
     "output_type": "stream",
     "text": [
      "C:\\Users\\Hp\\AppData\\Local\\Temp\\ipykernel_44636\\924924362.py:5: FutureWarning: DataFrame.fillna with 'method' is deprecated and will raise in a future version. Use obj.ffill() or obj.bfill() instead.\n",
      "  df.fillna(method='bfill', inplace=True)\n"
     ]
    }
   ],
   "source": [
    "import pandas as pd  \n",
    "data = {'Age': [25, None, 35, 40],'Salary': [50000, None, 65000, 70000]}  \n",
    "df = pd.DataFrame(data)  \n",
    "print(\"Data Frame before backward fill method:\\n\", df)  \n",
    "df.fillna(method='bfill', inplace=True)  \n",
    "print(\"\\nData Frame after backward fill method:\\n\", df)\n"
   ]
  },
  {
   "cell_type": "code",
   "execution_count": 6,
   "id": "726d96cf-110b-4f05-b2fb-ac11a512bac3",
   "metadata": {},
   "outputs": [
    {
     "name": "stdout",
     "output_type": "stream",
     "text": [
      "Data Frame before One Hot Encoding:\n",
      "         City\n",
      "0     Mandya\n",
      "1  Bengaluru\n",
      "2      India\n",
      "3      Durga\n",
      "4  Jalandhar\n",
      "5   Tumakuru\n",
      "\n",
      "Data Frame after One Hot Encoding:\n",
      "    City_Bengaluru  City_Durga  City_India  City_Jalandhar  City_Mandya  \\\n",
      "0             0.0         0.0         0.0             0.0          1.0   \n",
      "1             1.0         0.0         0.0             0.0          0.0   \n",
      "2             0.0         0.0         1.0             0.0          0.0   \n",
      "3             0.0         1.0         0.0             0.0          0.0   \n",
      "4             0.0         0.0         0.0             1.0          0.0   \n",
      "5             0.0         0.0         0.0             0.0          0.0   \n",
      "\n",
      "   City_Tumakuru  \n",
      "0            0.0  \n",
      "1            0.0  \n",
      "2            0.0  \n",
      "3            0.0  \n",
      "4            0.0  \n",
      "5            1.0  \n"
     ]
    }
   ],
   "source": [
    "import pandas as pd  \n",
    "from sklearn.preprocessing import OneHotEncoder  \n",
    "data = {'City': ['Mandya', 'Bengaluru', 'India', 'Durga', 'Jalandhar', 'Tumakuru']}  \n",
    "df = pd.DataFrame(data)  \n",
    "print(\"Data Frame before One Hot Encoding:\\n\", df)  \n",
    "encoder = OneHotEncoder(sparse_output=False)  \n",
    "encoded = encoder.fit_transform(df[['City']])  \n",
    "encoded_df = pd.DataFrame(encoded, columns=encoder.get_feature_names_out(['City']))  \n",
    "print(\"\\nData Frame after One Hot Encoding:\\n\", encoded_df)\n"
   ]
  },
  {
   "cell_type": "code",
   "execution_count": 7,
   "id": "f45f2e12-6c1e-41f6-8d23-215f870e2824",
   "metadata": {},
   "outputs": [
    {
     "name": "stdout",
     "output_type": "stream",
     "text": [
      "Data Frame before Label Encoding:\n",
      "    Gender\n",
      "0    Male\n",
      "1  Female\n",
      "2  Female\n",
      "3    Male\n",
      "4  Female\n",
      "\n",
      "Data Frame after Label Encoding:\n",
      "    Gender\n",
      "0       1\n",
      "1       0\n",
      "2       0\n",
      "3       1\n",
      "4       0\n"
     ]
    }
   ],
   "source": [
    "import pandas as pd  \n",
    "from sklearn.preprocessing import LabelEncoder  \n",
    "df = pd.DataFrame({'Gender': ['Male', 'Female', 'Female', 'Male', 'Female']})  \n",
    "print(\"Data Frame before Label Encoding:\\n\", df)  \n",
    "encoder = LabelEncoder()  \n",
    "df['Gender'] = encoder.fit_transform(df['Gender'])  \n",
    "print(\"\\nData Frame after Label Encoding:\\n\", df)"
   ]
  },
  {
   "cell_type": "code",
   "execution_count": 3,
   "id": "2698516a-9ffa-4ec2-8b53-55ca9e3d457f",
   "metadata": {},
   "outputs": [
    {
     "name": "stdout",
     "output_type": "stream",
     "text": [
      "Feature scaling before Min-Max:\n",
      "    A   B\n",
      "0  10   5\n",
      "1  20  15\n",
      "2  30  25\n",
      "3  40  35\n",
      "4  50  45\n",
      "Feature scaling after Min-Max:\n",
      "      A     B\n",
      "0  0.00  0.00\n",
      "1  0.25  0.25\n",
      "2  0.50  0.50\n",
      "3  0.75  0.75\n",
      "4  1.00  1.00\n"
     ]
    }
   ],
   "source": [
    "from sklearn.preprocessing import MinMaxScaler\n",
    "import pandas as pd\n",
    "\n",
    "df = pd.DataFrame({\n",
    "    'A': [10, 20, 30, 40, 50],\n",
    "    'B': [5, 15, 25, 35, 45]\n",
    "})\n",
    "\n",
    "print(\"Feature scaling before Min-Max:\")\n",
    "print(df)\n",
    "scaler = MinMaxScaler()\n",
    "\n",
    "\n",
    "df_scaled = pd.DataFrame(scaler.fit_transform(df), columns=df.columns)\n",
    "\n",
    "\n",
    "print(\"Feature scaling after Min-Max:\")\n",
    "print(df_scaled)"
   ]
  },
  {
   "cell_type": "code",
   "execution_count": 4,
   "id": "866b1f67-57cc-4d75-a203-ca8e8f35320a",
   "metadata": {},
   "outputs": [
    {
     "name": "stdout",
     "output_type": "stream",
     "text": [
      "Feature scaling (before standardization):\n",
      "   salary\n",
      "0   25000\n",
      "1   30000\n",
      "2   45000\n",
      "3   60000\n",
      "4   65000\n",
      "5   70000\n",
      "6   85000\n",
      "Feature scaling (after standardization):\n",
      "     salary\n",
      "0 -1.445959\n",
      "1 -1.199088\n",
      "2 -0.458475\n",
      "3  0.282138\n",
      "4  0.529009\n",
      "5  0.775880\n",
      "6  1.516493\n"
     ]
    }
   ],
   "source": [
    "from sklearn.preprocessing import StandardScaler\n",
    "import pandas as pd\n",
    "\n",
    "# Sample data\n",
    "data = {\n",
    "    'salary': [25000, 30000, 45000, 60000, 65000, 70000, 85000]\n",
    "}\n",
    "\n",
    "# Create DataFrame\n",
    "df = pd.DataFrame(data)\n",
    "\n",
    "# Print before scaling\n",
    "print(\"Feature scaling (before standardization):\")\n",
    "print(df)\n",
    "\n",
    "# Initialize the scaler\n",
    "scaler = StandardScaler()\n",
    "\n",
    "# Fit and transform the data\n",
    "df_scaled = pd.DataFrame(scaler.fit_transform(df), columns=df.columns)\n",
    "\n",
    "# Print after scaling\n",
    "print(\"Feature scaling (after standardization):\")\n",
    "print(df_scaled)"
   ]
  },
  {
   "cell_type": "code",
   "execution_count": null,
   "id": "475a295a-29c8-4f57-9866-1f5b2e528697",
   "metadata": {},
   "outputs": [],
   "source": []
  }
 ],
 "metadata": {
  "kernelspec": {
   "display_name": "Python 3 (ipykernel)",
   "language": "python",
   "name": "python3"
  },
  "language_info": {
   "codemirror_mode": {
    "name": "ipython",
    "version": 3
   },
   "file_extension": ".py",
   "mimetype": "text/x-python",
   "name": "python",
   "nbconvert_exporter": "python",
   "pygments_lexer": "ipython3",
   "version": "3.12.7"
  }
 },
 "nbformat": 4,
 "nbformat_minor": 5
}
